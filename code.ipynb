{
 "cells": [
  {
   "cell_type": "code",
   "execution_count": 6,
   "metadata": {},
   "outputs": [],
   "source": [
    "import os\n",
    "import shutil"
   ]
  },
  {
   "cell_type": "markdown",
   "metadata": {},
   "source": [
    "# Comandos iniciais"
   ]
  },
  {
   "cell_type": "code",
   "execution_count": 2,
   "metadata": {},
   "outputs": [
    {
     "name": "stdout",
     "output_type": "stream",
     "text": [
      "['code.ipynb', 'compras', 'Compras - AA987899.xlsx', 'Compras - AD321146.xlsx', 'Compras - EB192301.xlsx', 'Compras - EF545455.xlsx', 'vendas', 'Vendas - 1.xlsx', 'Vendas - 2.xlsx', 'Vendas - 3.xlsx', 'Vendas - 4.xlsx']\n"
     ]
    }
   ],
   "source": [
    "# visualizando os arquivos no diretório presente\n",
    "# caso queira vizualizar um diretório específico,\n",
    "# insira o caminho dele como argumento\n",
    "arquivos = os.listdir()\n",
    "print(arquivos)\n"
   ]
  },
  {
   "cell_type": "code",
   "execution_count": 3,
   "metadata": {},
   "outputs": [
    {
     "name": "stdout",
     "output_type": "stream",
     "text": [
      "c:\\Users\\engde\\kaio_personal\\python_applications\\os_tutorial\n"
     ]
    }
   ],
   "source": [
    "# Descobrindo o caminho do diretório\n",
    "caminho = os.getcwd()\n",
    "print(caminho)"
   ]
  },
  {
   "cell_type": "code",
   "execution_count": 5,
   "metadata": {},
   "outputs": [],
   "source": [
    "# Renomeando arquivos e movendo arquivos\n",
    "\n",
    "# Pega o arquivo, move ele pra pasta vendas mantendo o mesmo nome\n",
    "os.rename('Vendas - 1.xlsx', 'vendas\\Vendas - 1.xlsx')\n",
    "\n",
    "# Para reverter o código anterior:\n",
    "#os.rename('vendas\\Vendas - 1.xlsx', 'Vendas - 1.xlsx')\n"
   ]
  },
  {
   "cell_type": "code",
   "execution_count": 7,
   "metadata": {},
   "outputs": [
    {
     "data": {
      "text/plain": [
       "'vendas\\\\Vendas - 1.xlsx'"
      ]
     },
     "execution_count": 7,
     "metadata": {},
     "output_type": "execute_result"
    }
   ],
   "source": [
    "# copiar arquivos\n",
    "\n",
    "# Tem a mesma dinâmica da celélula anterior, mas copia ao invés de over\n",
    "shutil.copy2('Vendas - 1.xlsx', 'vendas\\Vendas - 1.xlsx')\n",
    "\n"
   ]
  },
  {
   "cell_type": "markdown",
   "metadata": {},
   "source": [
    "# Aplicação"
   ]
  },
  {
   "cell_type": "code",
   "execution_count": 9,
   "metadata": {},
   "outputs": [],
   "source": [
    "lista_arquivos = os.listdir()\n",
    "\n",
    "for arquivo in lista_arquivos:\n",
    "    if 'xlsx' in arquivo:\n",
    "        if 'Compras' in arquivo:\n",
    "            os.rename(arquivo, f'compras\\{arquivo}')\n",
    "        elif 'Vendas' in arquivo:\n",
    "            os.rename(arquivo, f'vendas\\{arquivo}')\n",
    "\n"
   ]
  }
 ],
 "metadata": {
  "kernelspec": {
   "display_name": "Python 3",
   "language": "python",
   "name": "python3"
  },
  "language_info": {
   "codemirror_mode": {
    "name": "ipython",
    "version": 3
   },
   "file_extension": ".py",
   "mimetype": "text/x-python",
   "name": "python",
   "nbconvert_exporter": "python",
   "pygments_lexer": "ipython3",
   "version": "3.9.13"
  }
 },
 "nbformat": 4,
 "nbformat_minor": 2
}
